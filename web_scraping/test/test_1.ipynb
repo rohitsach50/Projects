from bs4 import BeautifulSoup
import requests
import re

html_text = requests.get('https://www.imdb.com/event/ev0000003/2021/1/?ref_=ev_eh').text

html_text = requests.get('https://www.imdb.com/event/ev0000003/2021/1/?ref_=ev_eh').text

soup = BeautifulSoup(html_text, 'lxml')
years = soup.body.find_all('span', attrs = {'class':'ab_widget'})


# print(years)

for i in years[1]:
    print("==================================================================================")
    print(i)

main = years[1]

page = main.decode()
f = open("test.txt", "w")
f.write(page)
f.close()

txt = open("test.txt", "r")
a = txt.read()
txt.close
print(a)

years_list = []
pattern = re.compile(r'year..\d\d\d\d.')
matches = pattern.findall(a)
for match in matches:
      
    years_list.append(match)  
    print(match)

years_list

yrs_lst=""
for i in years_list:
    yrs_lst += i
yrs_lst

y = []
pttrn = re.compile(r'\d\d\d\d')
yrs = pttrn.findall(yrs_lst)
for yr in yrs:
    y.append(yr)
y

yl=[]
for i in y:
    yl.append(int(i))
yl


q="1998"

html_page = requests.get('https://www.imdb.com/event/ev0000003/'+q+'/1/?ref_=ev_eh').text

print(html_page)

winners = soup.body.find_all('dev', attrs = {'class':'event-widgets__nomination-details'})
print(winners)
